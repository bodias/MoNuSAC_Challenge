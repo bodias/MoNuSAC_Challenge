{
 "cells": [
  {
   "cell_type": "code",
   "execution_count": 1,
   "id": "2225a9d2",
   "metadata": {},
   "outputs": [
    {
     "name": "stdout",
     "output_type": "stream",
     "text": [
      "Number of samples: 3245\n",
      "TCGA-MP-A4T7-01Z-00-DX1/TCGA-MP-A4T7-01Z-00-DX1_3_00.tif | TCGA-MP-A4T7-01Z-00-DX1/TCGA-MP-A4T7-01Z-00-DX1_3_mask_00.npy\n",
      "TCGA-MP-A4T7-01Z-00-DX1/TCGA-MP-A4T7-01Z-00-DX1_3_01.tif | TCGA-MP-A4T7-01Z-00-DX1/TCGA-MP-A4T7-01Z-00-DX1_3_mask_01.npy\n",
      "TCGA-MP-A4T7-01Z-00-DX1/TCGA-MP-A4T7-01Z-00-DX1_3_02.tif | TCGA-MP-A4T7-01Z-00-DX1/TCGA-MP-A4T7-01Z-00-DX1_3_mask_02.npy\n",
      "TCGA-MP-A4T7-01Z-00-DX1/TCGA-MP-A4T7-01Z-00-DX1_3_03.tif | TCGA-MP-A4T7-01Z-00-DX1/TCGA-MP-A4T7-01Z-00-DX1_3_mask_03.npy\n",
      "TCGA-MP-A4T7-01Z-00-DX1/TCGA-MP-A4T7-01Z-00-DX1_3_04.tif | TCGA-MP-A4T7-01Z-00-DX1/TCGA-MP-A4T7-01Z-00-DX1_3_mask_04.npy\n",
      "TCGA-MP-A4T7-01Z-00-DX1/TCGA-MP-A4T7-01Z-00-DX1_3_10.tif | TCGA-MP-A4T7-01Z-00-DX1/TCGA-MP-A4T7-01Z-00-DX1_3_mask_10.npy\n",
      "TCGA-MP-A4T7-01Z-00-DX1/TCGA-MP-A4T7-01Z-00-DX1_3_11.tif | TCGA-MP-A4T7-01Z-00-DX1/TCGA-MP-A4T7-01Z-00-DX1_3_mask_11.npy\n",
      "TCGA-MP-A4T7-01Z-00-DX1/TCGA-MP-A4T7-01Z-00-DX1_3_12.tif | TCGA-MP-A4T7-01Z-00-DX1/TCGA-MP-A4T7-01Z-00-DX1_3_mask_12.npy\n",
      "TCGA-MP-A4T7-01Z-00-DX1/TCGA-MP-A4T7-01Z-00-DX1_3_13.tif | TCGA-MP-A4T7-01Z-00-DX1/TCGA-MP-A4T7-01Z-00-DX1_3_mask_13.npy\n",
      "TCGA-MP-A4T7-01Z-00-DX1/TCGA-MP-A4T7-01Z-00-DX1_3_14.tif | TCGA-MP-A4T7-01Z-00-DX1/TCGA-MP-A4T7-01Z-00-DX1_3_mask_14.npy\n"
     ]
    }
   ],
   "source": [
    "import os\n",
    "import numpy as np\n",
    "import tensorflow.keras.preprocessing.image as img_preproc\n",
    "from IPython.display import Image, display\n",
    "from tensorflow.keras.preprocessing.image import load_img\n",
    "from PIL import ImageOps\n",
    "from models import get_model\n",
    "import json\n",
    "import tensorflow.keras.backend as K\n",
    "import matplotlib.pyplot as plt\n",
    "\n",
    "input_dir = \"/data/datasets/MoNuSAC_images_and_annotations/\"\n",
    "target_dir = \"/data/datasets/MoNuSAC_bin_masks/\"\n",
    "img_size = (160, 160)\n",
    "num_classes = 5\n",
    "batch_size = 8\n",
    "\n",
    "with open('/data/datasets/processed_dataset.json', 'r') as file:\n",
    "    dataset = json.load(file)\n",
    "\n",
    "input_img_paths = dataset['images']    \n",
    "target_img_paths = dataset['masks']\n",
    "    \n",
    "print(\"Number of samples:\", len(input_img_paths))\n",
    "\n",
    "for input_path, target_path in zip(input_img_paths[:10], target_img_paths[:10]):\n",
    "    print(input_path, \"|\", target_path)\n",
    "    \n",
    "assert len(input_img_paths)>0,\"input_dir is empty\"\n",
    "assert len(input_img_paths)>0,\"target_dir is empty\""
   ]
  },
  {
   "cell_type": "code",
   "execution_count": 2,
   "id": "a796b84d",
   "metadata": {},
   "outputs": [],
   "source": [
    "import matplotlib.pyplot as plt"
   ]
  },
  {
   "cell_type": "code",
   "execution_count": 3,
   "id": "47d15cba",
   "metadata": {},
   "outputs": [
    {
     "name": "stderr",
     "output_type": "stream",
     "text": [
      "2022-12-27 00:41:16.457627: I tensorflow/core/platform/cpu_feature_guard.cc:142] This TensorFlow binary is optimized with oneAPI Deep Neural Network Library (oneDNN)to use the following CPU instructions in performance-critical operations:  AVX2 FMA\n",
      "To enable them in other operations, rebuild TensorFlow with the appropriate compiler flags.\n",
      "2022-12-27 00:41:16.477946: I tensorflow/core/platform/profile_utils/cpu_utils.cc:104] CPU Frequency: 1896520000 Hz\n",
      "2022-12-27 00:41:16.478575: I tensorflow/compiler/xla/service/service.cc:168] XLA service 0x3210250 initialized for platform Host (this does not guarantee that XLA will be used). Devices:\n",
      "2022-12-27 00:41:16.478585: I tensorflow/compiler/xla/service/service.cc:176]   StreamExecutor device (0): Host, Default Version\n"
     ]
    },
    {
     "name": "stdout",
     "output_type": "stream",
     "text": [
      "Model: \"functional_1\"\n",
      "__________________________________________________________________________________________________\n",
      "Layer (type)                    Output Shape         Param #     Connected to                     \n",
      "==================================================================================================\n",
      "input_1 (InputLayer)            [(None, 160, 160, 3) 0                                            \n",
      "__________________________________________________________________________________________________\n",
      "conv2d (Conv2D)                 (None, 80, 80, 32)   896         input_1[0][0]                    \n",
      "__________________________________________________________________________________________________\n",
      "batch_normalization (BatchNorma (None, 80, 80, 32)   128         conv2d[0][0]                     \n",
      "__________________________________________________________________________________________________\n",
      "activation (Activation)         (None, 80, 80, 32)   0           batch_normalization[0][0]        \n",
      "__________________________________________________________________________________________________\n",
      "activation_1 (Activation)       (None, 80, 80, 32)   0           activation[0][0]                 \n",
      "__________________________________________________________________________________________________\n",
      "separable_conv2d (SeparableConv (None, 80, 80, 64)   2400        activation_1[0][0]               \n",
      "__________________________________________________________________________________________________\n",
      "batch_normalization_1 (BatchNor (None, 80, 80, 64)   256         separable_conv2d[0][0]           \n",
      "__________________________________________________________________________________________________\n",
      "activation_2 (Activation)       (None, 80, 80, 64)   0           batch_normalization_1[0][0]      \n",
      "__________________________________________________________________________________________________\n",
      "separable_conv2d_1 (SeparableCo (None, 80, 80, 64)   4736        activation_2[0][0]               \n",
      "__________________________________________________________________________________________________\n",
      "batch_normalization_2 (BatchNor (None, 80, 80, 64)   256         separable_conv2d_1[0][0]         \n",
      "__________________________________________________________________________________________________\n",
      "max_pooling2d (MaxPooling2D)    (None, 40, 40, 64)   0           batch_normalization_2[0][0]      \n",
      "__________________________________________________________________________________________________\n",
      "conv2d_1 (Conv2D)               (None, 40, 40, 64)   2112        activation[0][0]                 \n",
      "__________________________________________________________________________________________________\n",
      "add (Add)                       (None, 40, 40, 64)   0           max_pooling2d[0][0]              \n",
      "                                                                 conv2d_1[0][0]                   \n",
      "__________________________________________________________________________________________________\n",
      "activation_3 (Activation)       (None, 40, 40, 64)   0           add[0][0]                        \n",
      "__________________________________________________________________________________________________\n",
      "separable_conv2d_2 (SeparableCo (None, 40, 40, 128)  8896        activation_3[0][0]               \n",
      "__________________________________________________________________________________________________\n",
      "batch_normalization_3 (BatchNor (None, 40, 40, 128)  512         separable_conv2d_2[0][0]         \n",
      "__________________________________________________________________________________________________\n",
      "activation_4 (Activation)       (None, 40, 40, 128)  0           batch_normalization_3[0][0]      \n",
      "__________________________________________________________________________________________________\n",
      "separable_conv2d_3 (SeparableCo (None, 40, 40, 128)  17664       activation_4[0][0]               \n",
      "__________________________________________________________________________________________________\n",
      "batch_normalization_4 (BatchNor (None, 40, 40, 128)  512         separable_conv2d_3[0][0]         \n",
      "__________________________________________________________________________________________________\n",
      "max_pooling2d_1 (MaxPooling2D)  (None, 20, 20, 128)  0           batch_normalization_4[0][0]      \n",
      "__________________________________________________________________________________________________\n",
      "conv2d_2 (Conv2D)               (None, 20, 20, 128)  8320        add[0][0]                        \n",
      "__________________________________________________________________________________________________\n",
      "add_1 (Add)                     (None, 20, 20, 128)  0           max_pooling2d_1[0][0]            \n",
      "                                                                 conv2d_2[0][0]                   \n",
      "__________________________________________________________________________________________________\n",
      "activation_5 (Activation)       (None, 20, 20, 128)  0           add_1[0][0]                      \n",
      "__________________________________________________________________________________________________\n",
      "separable_conv2d_4 (SeparableCo (None, 20, 20, 256)  34176       activation_5[0][0]               \n",
      "__________________________________________________________________________________________________\n",
      "batch_normalization_5 (BatchNor (None, 20, 20, 256)  1024        separable_conv2d_4[0][0]         \n",
      "__________________________________________________________________________________________________\n",
      "activation_6 (Activation)       (None, 20, 20, 256)  0           batch_normalization_5[0][0]      \n",
      "__________________________________________________________________________________________________\n",
      "separable_conv2d_5 (SeparableCo (None, 20, 20, 256)  68096       activation_6[0][0]               \n",
      "__________________________________________________________________________________________________\n",
      "batch_normalization_6 (BatchNor (None, 20, 20, 256)  1024        separable_conv2d_5[0][0]         \n",
      "__________________________________________________________________________________________________\n",
      "max_pooling2d_2 (MaxPooling2D)  (None, 10, 10, 256)  0           batch_normalization_6[0][0]      \n",
      "__________________________________________________________________________________________________\n",
      "conv2d_3 (Conv2D)               (None, 10, 10, 256)  33024       add_1[0][0]                      \n",
      "__________________________________________________________________________________________________\n",
      "add_2 (Add)                     (None, 10, 10, 256)  0           max_pooling2d_2[0][0]            \n",
      "                                                                 conv2d_3[0][0]                   \n",
      "__________________________________________________________________________________________________\n",
      "activation_7 (Activation)       (None, 10, 10, 256)  0           add_2[0][0]                      \n",
      "__________________________________________________________________________________________________\n",
      "conv2d_transpose (Conv2DTranspo (None, 10, 10, 256)  590080      activation_7[0][0]               \n",
      "__________________________________________________________________________________________________\n",
      "batch_normalization_7 (BatchNor (None, 10, 10, 256)  1024        conv2d_transpose[0][0]           \n",
      "__________________________________________________________________________________________________\n",
      "activation_8 (Activation)       (None, 10, 10, 256)  0           batch_normalization_7[0][0]      \n",
      "__________________________________________________________________________________________________\n",
      "conv2d_transpose_1 (Conv2DTrans (None, 10, 10, 256)  590080      activation_8[0][0]               \n",
      "__________________________________________________________________________________________________\n",
      "batch_normalization_8 (BatchNor (None, 10, 10, 256)  1024        conv2d_transpose_1[0][0]         \n",
      "__________________________________________________________________________________________________\n",
      "up_sampling2d_1 (UpSampling2D)  (None, 20, 20, 256)  0           add_2[0][0]                      \n",
      "__________________________________________________________________________________________________\n",
      "up_sampling2d (UpSampling2D)    (None, 20, 20, 256)  0           batch_normalization_8[0][0]      \n",
      "__________________________________________________________________________________________________\n",
      "conv2d_4 (Conv2D)               (None, 20, 20, 256)  65792       up_sampling2d_1[0][0]            \n",
      "__________________________________________________________________________________________________\n",
      "add_3 (Add)                     (None, 20, 20, 256)  0           up_sampling2d[0][0]              \n",
      "                                                                 conv2d_4[0][0]                   \n",
      "__________________________________________________________________________________________________\n",
      "activation_9 (Activation)       (None, 20, 20, 256)  0           add_3[0][0]                      \n",
      "__________________________________________________________________________________________________\n",
      "conv2d_transpose_2 (Conv2DTrans (None, 20, 20, 128)  295040      activation_9[0][0]               \n",
      "__________________________________________________________________________________________________\n",
      "batch_normalization_9 (BatchNor (None, 20, 20, 128)  512         conv2d_transpose_2[0][0]         \n",
      "__________________________________________________________________________________________________\n",
      "activation_10 (Activation)      (None, 20, 20, 128)  0           batch_normalization_9[0][0]      \n",
      "__________________________________________________________________________________________________\n",
      "conv2d_transpose_3 (Conv2DTrans (None, 20, 20, 128)  147584      activation_10[0][0]              \n",
      "__________________________________________________________________________________________________\n",
      "batch_normalization_10 (BatchNo (None, 20, 20, 128)  512         conv2d_transpose_3[0][0]         \n",
      "__________________________________________________________________________________________________\n",
      "up_sampling2d_3 (UpSampling2D)  (None, 40, 40, 256)  0           add_3[0][0]                      \n",
      "__________________________________________________________________________________________________\n",
      "up_sampling2d_2 (UpSampling2D)  (None, 40, 40, 128)  0           batch_normalization_10[0][0]     \n",
      "__________________________________________________________________________________________________\n",
      "conv2d_5 (Conv2D)               (None, 40, 40, 128)  32896       up_sampling2d_3[0][0]            \n",
      "__________________________________________________________________________________________________\n",
      "add_4 (Add)                     (None, 40, 40, 128)  0           up_sampling2d_2[0][0]            \n",
      "                                                                 conv2d_5[0][0]                   \n",
      "__________________________________________________________________________________________________\n",
      "activation_11 (Activation)      (None, 40, 40, 128)  0           add_4[0][0]                      \n",
      "__________________________________________________________________________________________________\n",
      "conv2d_transpose_4 (Conv2DTrans (None, 40, 40, 64)   73792       activation_11[0][0]              \n",
      "__________________________________________________________________________________________________\n",
      "batch_normalization_11 (BatchNo (None, 40, 40, 64)   256         conv2d_transpose_4[0][0]         \n",
      "__________________________________________________________________________________________________\n",
      "activation_12 (Activation)      (None, 40, 40, 64)   0           batch_normalization_11[0][0]     \n",
      "__________________________________________________________________________________________________\n",
      "conv2d_transpose_5 (Conv2DTrans (None, 40, 40, 64)   36928       activation_12[0][0]              \n",
      "__________________________________________________________________________________________________\n",
      "batch_normalization_12 (BatchNo (None, 40, 40, 64)   256         conv2d_transpose_5[0][0]         \n",
      "__________________________________________________________________________________________________\n",
      "up_sampling2d_5 (UpSampling2D)  (None, 80, 80, 128)  0           add_4[0][0]                      \n",
      "__________________________________________________________________________________________________\n",
      "up_sampling2d_4 (UpSampling2D)  (None, 80, 80, 64)   0           batch_normalization_12[0][0]     \n",
      "__________________________________________________________________________________________________\n",
      "conv2d_6 (Conv2D)               (None, 80, 80, 64)   8256        up_sampling2d_5[0][0]            \n",
      "__________________________________________________________________________________________________\n",
      "add_5 (Add)                     (None, 80, 80, 64)   0           up_sampling2d_4[0][0]            \n",
      "                                                                 conv2d_6[0][0]                   \n",
      "__________________________________________________________________________________________________\n",
      "activation_13 (Activation)      (None, 80, 80, 64)   0           add_5[0][0]                      \n",
      "__________________________________________________________________________________________________\n",
      "conv2d_transpose_6 (Conv2DTrans (None, 80, 80, 32)   18464       activation_13[0][0]              \n",
      "__________________________________________________________________________________________________\n",
      "batch_normalization_13 (BatchNo (None, 80, 80, 32)   128         conv2d_transpose_6[0][0]         \n",
      "__________________________________________________________________________________________________\n",
      "activation_14 (Activation)      (None, 80, 80, 32)   0           batch_normalization_13[0][0]     \n",
      "__________________________________________________________________________________________________\n",
      "conv2d_transpose_7 (Conv2DTrans (None, 80, 80, 32)   9248        activation_14[0][0]              \n",
      "__________________________________________________________________________________________________\n",
      "batch_normalization_14 (BatchNo (None, 80, 80, 32)   128         conv2d_transpose_7[0][0]         \n",
      "__________________________________________________________________________________________________\n",
      "up_sampling2d_7 (UpSampling2D)  (None, 160, 160, 64) 0           add_5[0][0]                      \n",
      "__________________________________________________________________________________________________\n",
      "up_sampling2d_6 (UpSampling2D)  (None, 160, 160, 32) 0           batch_normalization_14[0][0]     \n",
      "__________________________________________________________________________________________________\n",
      "conv2d_7 (Conv2D)               (None, 160, 160, 32) 2080        up_sampling2d_7[0][0]            \n",
      "__________________________________________________________________________________________________\n",
      "add_6 (Add)                     (None, 160, 160, 32) 0           up_sampling2d_6[0][0]            \n",
      "                                                                 conv2d_7[0][0]                   \n",
      "__________________________________________________________________________________________________\n",
      "conv2d_8 (Conv2D)               (None, 160, 160, 5)  1445        add_6[0][0]                      \n",
      "==================================================================================================\n",
      "Total params: 2,059,557\n",
      "Trainable params: 2,055,781\n",
      "Non-trainable params: 3,776\n",
      "__________________________________________________________________________________________________\n"
     ]
    }
   ],
   "source": [
    "# Free up RAM in case the model definition cells were run multiple times\n",
    "K.clear_session()\n",
    "\n",
    "# Build model\n",
    "model = get_model(img_size, num_classes)\n",
    "model.summary()"
   ]
  },
  {
   "cell_type": "code",
   "execution_count": 4,
   "id": "10677718",
   "metadata": {},
   "outputs": [],
   "source": [
    "import random\n",
    "from dataset import Challenge\n",
    "\n",
    "# Split our img paths into a training and a validation set\n",
    "val_samples = 50\n",
    "#random.Random(1337).shuffle(input_img_paths)\n",
    "#random.Random(1337).shuffle(target_img_paths)\n",
    "train_input_img_paths = input_img_paths[:-val_samples]\n",
    "train_target_img_paths = target_img_paths[:-val_samples]\n",
    "val_input_img_paths = input_img_paths[-val_samples:]\n",
    "val_target_img_paths = target_img_paths[-val_samples:]\n",
    "\n",
    "# Instantiate data Sequences for each split\n",
    "train_gen = Challenge(\n",
    "    batch_size, img_size, input_dir, target_dir, train_input_img_paths, train_target_img_paths, shuffle=False, augment=False\n",
    ")\n",
    "val_gen = Challenge(\n",
    "    batch_size, img_size, input_dir, target_dir, val_input_img_paths, val_target_img_paths, shuffle=False, augment=False\n",
    ")"
   ]
  },
  {
   "cell_type": "code",
   "execution_count": 5,
   "id": "6da270a9",
   "metadata": {},
   "outputs": [],
   "source": [
    "#train_input_img_paths"
   ]
  },
  {
   "cell_type": "code",
   "execution_count": 6,
   "id": "11468186",
   "metadata": {},
   "outputs": [],
   "source": [
    "#train_target_img_paths"
   ]
  },
  {
   "cell_type": "code",
   "execution_count": 7,
   "id": "8c6435fd",
   "metadata": {},
   "outputs": [],
   "source": [
    "from tensorflow.keras.callbacks import ModelCheckpoint, EarlyStopping\n",
    "\n",
    "metrics = ['accuracy']\n",
    "\n",
    "model.compile(optimizer=\"rmsprop\", loss=\"sparse_categorical_crossentropy\", metrics=metrics)"
   ]
  },
  {
   "cell_type": "code",
   "execution_count": 8,
   "id": "1d3f2fe2",
   "metadata": {},
   "outputs": [
    {
     "name": "stdout",
     "output_type": "stream",
     "text": [
      "Epoch 1/50\n",
      "399/399 [==============================] - 187s 468ms/step - loss: 2.9417 - accuracy: 0.9964 - val_loss: 0.6365 - val_accuracy: 1.0000\n",
      "Epoch 2/50\n",
      "399/399 [==============================] - 203s 510ms/step - loss: 2.9281 - accuracy: 1.0000 - val_loss: 0.6365 - val_accuracy: 1.0000\n",
      "Epoch 3/50\n",
      "399/399 [==============================] - 213s 534ms/step - loss: 2.9281 - accuracy: 1.0000 - val_loss: 0.6365 - val_accuracy: 1.0000\n",
      "Epoch 4/50\n",
      "399/399 [==============================] - 210s 526ms/step - loss: 2.9281 - accuracy: 1.0000 - val_loss: 0.6365 - val_accuracy: 1.0000\n",
      "Epoch 5/50\n",
      "399/399 [==============================] - 210s 525ms/step - loss: 2.9281 - accuracy: 1.0000 - val_loss: 0.6365 - val_accuracy: 1.0000\n",
      "Epoch 6/50\n",
      "399/399 [==============================] - 208s 521ms/step - loss: 2.9281 - accuracy: 1.0000 - val_loss: 0.6365 - val_accuracy: 1.0000\n",
      "Epoch 7/50\n",
      "399/399 [==============================] - 208s 521ms/step - loss: 2.9281 - accuracy: 1.0000 - val_loss: 0.6365 - val_accuracy: 1.0000\n",
      "Epoch 8/50\n",
      "399/399 [==============================] - 207s 519ms/step - loss: 2.9281 - accuracy: 1.0000 - val_loss: 0.6365 - val_accuracy: 1.0000\n",
      "Epoch 9/50\n",
      "399/399 [==============================] - 209s 523ms/step - loss: 2.9281 - accuracy: 1.0000 - val_loss: 0.6365 - val_accuracy: 1.0000\n",
      "Epoch 10/50\n",
      "399/399 [==============================] - 208s 522ms/step - loss: 2.9281 - accuracy: 1.0000 - val_loss: 0.6365 - val_accuracy: 1.0000\n",
      "Epoch 11/50\n",
      "399/399 [==============================] - ETA: 0s - loss: 2.9281 - accuracy: 1.0000Restoring model weights from the end of the best epoch.\n",
      "399/399 [==============================] - 208s 522ms/step - loss: 2.9281 - accuracy: 1.0000 - val_loss: 0.6365 - val_accuracy: 1.0000\n",
      "Epoch 00011: early stopping\n"
     ]
    }
   ],
   "source": [
    "callbacks = [\n",
    "    ModelCheckpoint(\"monusac-challenge_segmentation_baseline.h5\", save_best_only=True),\n",
    "    EarlyStopping(min_delta=0.01, patience=10, restore_best_weights=True, verbose=1)\n",
    "]\n",
    "\n",
    "# Train the model for 50 epochs, in reality it will stop earlier because of the EarlyStopping\n",
    "epochs = 50\n",
    "history = model.fit(train_gen, \n",
    "                    epochs=epochs, \n",
    "                    validation_data=val_gen, \n",
    "                    callbacks=callbacks)"
   ]
  },
  {
   "cell_type": "code",
   "execution_count": 9,
   "id": "7775931e",
   "metadata": {},
   "outputs": [
    {
     "data": {
      "image/png": "[encoded data removed]",
      "text/plain": [
       "<Figure size 640x480 with 1 Axes>"
      ]
     },
     "metadata": {},
     "output_type": "display_data"
    }
   ],
   "source": [
    "plt.plot(history.history['loss'], label='train loss')\n",
    "plt.plot(history.history['val_loss'], label='val loss')\n",
    "plt.legend(loc=\"upper right\")\n",
    "plt.title(\"Baseline model\")\n",
    "plt.show()"
   ]
  },
  {
   "cell_type": "markdown",
   "id": "293b8112",
   "metadata": {},
   "source": [
    "# Model evaluation - validation set"
   ]
  },
  {
   "cell_type": "code",
   "execution_count": 10,
   "id": "18dbf3a3",
   "metadata": {},
   "outputs": [
    {
     "ename": "NameError",
     "evalue": "name 'ISICChallenge' is not defined",
     "output_type": "error",
     "traceback": [
      "\u001b[0;31m---------------------------------------------------------------------------\u001b[0m",
      "\u001b[0;31mNameError\u001b[0m                                 Traceback (most recent call last)",
      "\u001b[0;32m/tmp/ipykernel_193497/2528045955.py\u001b[0m in \u001b[0;36m<module>\u001b[0;34m\u001b[0m\n\u001b[1;32m      1\u001b[0m \u001b[0;32mfrom\u001b[0m \u001b[0msegmentation_metrics\u001b[0m \u001b[0;32mimport\u001b[0m \u001b[0mcalculate_metrics\u001b[0m\u001b[0;34m\u001b[0m\u001b[0;34m\u001b[0m\u001b[0m\n\u001b[1;32m      2\u001b[0m \u001b[0;34m\u001b[0m\u001b[0m\n\u001b[0;32m----> 3\u001b[0;31m val_gen = ISICChallenge(1, \n\u001b[0m\u001b[1;32m      4\u001b[0m                         \u001b[0mimg_size\u001b[0m\u001b[0;34m,\u001b[0m\u001b[0;34m\u001b[0m\u001b[0;34m\u001b[0m\u001b[0m\n\u001b[1;32m      5\u001b[0m                         \u001b[0mval_input_img_paths\u001b[0m\u001b[0;34m,\u001b[0m\u001b[0;34m\u001b[0m\u001b[0;34m\u001b[0m\u001b[0m\n",
      "\u001b[0;31mNameError\u001b[0m: name 'ISICChallenge' is not defined"
     ]
    }
   ],
   "source": [
    "from segmentation_metrics import calculate_metrics\n",
    "\n",
    "val_gen = ISICChallenge(1, \n",
    "                        img_size, \n",
    "                        val_input_img_paths, \n",
    "                        val_target_img_paths, \n",
    "                        shuffle=False, \n",
    "                        augment=False)\n",
    "\n",
    "val_preds = model.predict(val_gen)"
   ]
  },
  {
   "cell_type": "code",
   "execution_count": null,
   "id": "ea0d0dc7",
   "metadata": {},
   "outputs": [],
   "source": [
    "y = np.zeros((len(val_input_img_paths),) + img_size + (1,), dtype=\"uint8\")\n",
    "for i, mask_path in enumerate(val_target_img_paths):\n",
    "    mask = np.array(load_img(mask_path, target_size=img_size, color_mode=\"grayscale\"))\n",
    "    mask[mask>0] = 1\n",
    "    mask = np.expand_dims(mask, 2)\n",
    "    y[i] = mask"
   ]
  },
  {
   "cell_type": "code",
   "execution_count": null,
   "id": "3102b345",
   "metadata": {},
   "outputs": [],
   "source": [
    "y = np.squeeze(y)\n",
    "pr_masks = np.argmax(val_preds, axis=-1)\n",
    "y.shape, pr_masks.shape"
   ]
  },
  {
   "cell_type": "code",
   "execution_count": null,
   "id": "ef5cacdd",
   "metadata": {},
   "outputs": [],
   "source": [
    "assert y.shape==pr_masks.shape, \"number of test samples doesn't match predictions\""
   ]
  },
  {
   "cell_type": "code",
   "execution_count": null,
   "id": "a201d328",
   "metadata": {},
   "outputs": [],
   "source": [
    "calculate_metrics(y, val_preds)"
   ]
  },
  {
   "cell_type": "code",
   "execution_count": null,
   "id": "7be0ac3b",
   "metadata": {
    "scrolled": false
   },
   "outputs": [],
   "source": [
    "max_img = 5\n",
    "pr_masks = np.argmax(val_preds, axis=-1)\n",
    "    \n",
    "for img_path, mask_path, pr_mask in zip(val_input_img_paths[:max_img], \n",
    "                                        val_target_img_paths[:max_img], \n",
    "                                        pr_masks[:max_img]):\n",
    "    plt.figure(figsize=(10, 5))\n",
    "\n",
    "    img = load_img(img_path, target_size=img_size)\n",
    "    mask = load_img(mask_path, target_size=img_size, color_mode=\"grayscale\")\n",
    "    prediction = np.expand_dims(pr_mask, axis=-1)\n",
    "    \n",
    "    plt.subplot(1, 3, 1)\n",
    "    plt.imshow(np.array(img))  # convert CHW -> HWC\n",
    "    plt.title(\"Image\")\n",
    "    plt.axis(\"off\")\n",
    "\n",
    "    plt.subplot(1, 3, 2)\n",
    "    plt.imshow(np.array(mask)) # just squeeze classes dim, because we have only one class\n",
    "    plt.title(\"Ground truth\")\n",
    "    plt.axis(\"off\")\n",
    "\n",
    "    plt.subplot(1, 3, 3)\n",
    "    plt.imshow(prediction) # just squeeze classes dim, because we have only one class\n",
    "    plt.title(\"Prediction\")\n",
    "    plt.axis(\"off\")\n",
    "\n",
    "    plt.show()"
   ]
  },
  {
   "cell_type": "markdown",
   "id": "f73a56af",
   "metadata": {},
   "source": [
    "# Model evaluation - Test set"
   ]
  },
  {
   "cell_type": "code",
   "execution_count": null,
   "id": "0b94fe50",
   "metadata": {},
   "outputs": [],
   "source": [
    "input_dir = \"images/test/\"\n",
    "target_dir = \"annotations/test/\"\n",
    "\n",
    "test_input_img_paths = sorted(\n",
    "    [\n",
    "        os.path.join(input_dir, fname)\n",
    "        for fname in os.listdir(input_dir)\n",
    "        if fname.endswith(\".jpg\")\n",
    "    ]\n",
    ")\n",
    "test_target_img_paths = sorted(\n",
    "    [\n",
    "        os.path.join(target_dir, fname)\n",
    "        for fname in os.listdir(target_dir)\n",
    "        if fname.endswith(\".png\") and not fname.startswith(\".\")\n",
    "    ]\n",
    ")\n",
    "\n",
    "print(\"Number of samples:\", len(test_input_img_paths))"
   ]
  },
  {
   "cell_type": "code",
   "execution_count": null,
   "id": "ed78ed50",
   "metadata": {},
   "outputs": [],
   "source": [
    "test_gen = ISICChallenge(\n",
    "    1, img_size, test_input_img_paths, test_target_img_paths, shuffle=False, augment=False\n",
    ")"
   ]
  },
  {
   "cell_type": "code",
   "execution_count": null,
   "id": "daf975a3",
   "metadata": {},
   "outputs": [],
   "source": [
    "test_preds = model.predict(test_gen)"
   ]
  },
  {
   "cell_type": "markdown",
   "id": "8f5013fa",
   "metadata": {},
   "source": [
    "### load all masks as used in training to calculate metrics"
   ]
  },
  {
   "cell_type": "code",
   "execution_count": null,
   "id": "e81db082",
   "metadata": {},
   "outputs": [],
   "source": [
    "y = np.zeros((len(test_input_img_paths),) + img_size + (1,), dtype=\"uint8\")\n",
    "for i, mask_path in enumerate(test_target_img_paths):\n",
    "    mask = np.array(load_img(mask_path, target_size=img_size, color_mode=\"grayscale\"))\n",
    "    mask[mask>0] = 1\n",
    "    mask = np.expand_dims(mask, 2)\n",
    "    y[i] = mask"
   ]
  },
  {
   "cell_type": "code",
   "execution_count": null,
   "id": "42714403",
   "metadata": {},
   "outputs": [],
   "source": [
    "y = np.squeeze(y)\n",
    "pr_masks = np.argmax(test_preds, axis=-1)\n",
    "y.shape, pr_masks.shape"
   ]
  },
  {
   "cell_type": "code",
   "execution_count": null,
   "id": "4d26bdb3",
   "metadata": {},
   "outputs": [],
   "source": [
    "assert y.shape==pr_masks.shape, \"number of test samples doesn't match predictions\""
   ]
  },
  {
   "cell_type": "code",
   "execution_count": null,
   "id": "a2431bc4",
   "metadata": {},
   "outputs": [],
   "source": [
    "calculate_metrics(y, test_preds)"
   ]
  },
  {
   "cell_type": "markdown",
   "id": "d31f3171",
   "metadata": {},
   "source": [
    "## Visualization"
   ]
  },
  {
   "cell_type": "code",
   "execution_count": null,
   "id": "fd57053f",
   "metadata": {
    "scrolled": false
   },
   "outputs": [],
   "source": [
    "max_img = 3\n",
    "    \n",
    "for img_path, mask_path, pr_mask in zip(test_input_img_paths[:max_img], \n",
    "                                        test_target_img_paths[:max_img], \n",
    "                                        pr_masks[:max_img]):\n",
    "    plt.figure(figsize=(10, 5))\n",
    "\n",
    "    img = load_img(img_path, target_size=img_size)\n",
    "    mask = load_img(mask_path, target_size=img_size, color_mode=\"grayscale\")\n",
    "    prediction = np.expand_dims(pr_mask, axis=-1)\n",
    "    \n",
    "    plt.subplot(1, 3, 1)\n",
    "    plt.imshow(np.array(img))  # convert CHW -> HWC\n",
    "    plt.title(\"Image\")\n",
    "    plt.axis(\"off\")\n",
    "\n",
    "    plt.subplot(1, 3, 2)\n",
    "    plt.imshow(np.array(mask)) # just squeeze classes dim, because we have only one class\n",
    "    plt.title(\"Ground truth\")\n",
    "    plt.axis(\"off\")\n",
    "\n",
    "    plt.subplot(1, 3, 3)\n",
    "    plt.imshow(prediction) # just squeeze classes dim, because we have only one class\n",
    "    plt.title(\"Prediction\")\n",
    "    plt.axis(\"off\")\n",
    "\n",
    "    plt.show()"
   ]
  },
  {
   "cell_type": "markdown",
   "id": "fbeaafde",
   "metadata": {},
   "source": []
  },
  {
   "cell_type": "code",
   "execution_count": null,
   "id": "262b3ade",
   "metadata": {},
   "outputs": [],
   "source": []
  }
 ],
 "metadata": {
  "kernelspec": {
   "display_name": "Python 3 (ipykernel)",
   "language": "python",
   "name": "python3"
  },
  "language_info": {
   "codemirror_mode": {
    "name": "ipython",
    "version": 3
   },
   "file_extension": ".py",
   "mimetype": "text/x-python",
   "name": "python",
   "nbconvert_exporter": "python",
   "pygments_lexer": "ipython3",
   "version": "3.7.13"
  }
 },
 "nbformat": 4,
 "nbformat_minor": 5
}
